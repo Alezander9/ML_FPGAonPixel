{
 "cells": [
  {
   "cell_type": "code",
   "execution_count": 1,
   "metadata": {},
   "outputs": [],
   "source": [
    "from sklearn.model_selection import train_test_split\n",
    "from sklearn.preprocessing import StandardScaler\n",
    "\n",
    "import torch\n",
    "from torch.utils.data import TensorDataset, DataLoader\n",
    "import torch.nn as nn\n",
    "import torch.nn.functional as F\n",
    "\n",
    "import matplotlib.pyplot as plt\n",
    "import numpy as np\n",
    "import pandas as pd\n",
    "import seaborn as sns"
   ]
  },
  {
   "cell_type": "code",
   "execution_count": 2,
   "metadata": {},
   "outputs": [
    {
     "name": "stdout",
     "output_type": "stream",
     "text": [
      "loading  16501\n",
      "loading  16502\n",
      "loading  16503\n",
      "loading  16504\n",
      "loading  16505\n",
      "loading  16506\n",
      "loading  16507\n",
      "loading  16508\n",
      "loading  16509\n"
     ]
    }
   ],
   "source": [
    "# Initialize an empty list to store DataFrames\n",
    "combined_df1 = pd.DataFrame()\n",
    "combined_df2 = pd.DataFrame()\n",
    "\n",
    "# Loop through the range of numbers\n",
    "for number in range(16501, 16510):\n",
    "    print(\"loading \", number)\n",
    "    # Construct the file name\n",
    "    file1_pos_name = f'/gpfs/slac/atlas/fs1/d/hjia625/Smart_Pixel/positive-charge/recon8t_d{number}.csv'\n",
    "    file2_pos_name = f'/gpfs/slac/atlas/fs1/d/hjia625/Smart_Pixel/positive-charge/labels_d{number}.csv'\n",
    "    file1_neg_name = f'/gpfs/slac/atlas/fs1/d/hjia625/Smart_Pixel/negative-charge/recon8t_d{number}.csv'\n",
    "    file2_neg_name = f'/gpfs/slac/atlas/fs1/d/hjia625/Smart_Pixel/negative-charge/labels_d{number}.csv'\n",
    "    # Read the CSV file\n",
    "    df1_pos = pd.read_csv(file1_pos_name, dtype='float32')\n",
    "    df2_pos = pd.read_csv(file2_pos_name, dtype='float32')\n",
    "    df1_neg = pd.read_csv(file1_neg_name, dtype='float32')\n",
    "    df2_neg = pd.read_csv(file2_neg_name, dtype='float32')\n",
    "\n",
    "    df2_pos['charge'] = 1\n",
    "    df2_neg['charge'] = -1\n",
    "\n",
    "    # Concatenate all DataFrames in the list\n",
    "    combined_df1 = pd.concat([combined_df1, df1_pos, df1_neg], ignore_index=True)\n",
    "    combined_df2 = pd.concat([combined_df2, df2_pos, df2_neg], ignore_index=True)"
   ]
  },
  {
   "cell_type": "code",
   "execution_count": 3,
   "metadata": {},
   "outputs": [
    {
     "name": "stdout",
     "output_type": "stream",
     "text": [
      "             x-entry        y-entry   z-entry            n_x            n_y  \\\n",
      "count  217754.000000  217754.000000  217754.0  217754.000000  217754.000000   \n",
      "mean        3.702606       0.109820     100.0      -0.082999      -0.003157   \n",
      "std       154.415894      13.217155       0.0       4.396502       0.221343   \n",
      "min      -470.813873     -38.627296     100.0     -37.436077      -1.397942   \n",
      "25%       -89.459047      -9.608396     100.0      -1.571073      -0.118156   \n",
      "50%         0.275258       0.115790     100.0       0.003784      -0.002779   \n",
      "75%        93.698252       9.881001     100.0       1.528389       0.111412   \n",
      "max       474.552917      42.305004     100.0      37.669289       1.373608   \n",
      "\n",
      "                 n_z  number_eh_pairs        y-local             pt  \\\n",
      "count  217754.000000    217754.000000  217754.000000  217754.000000   \n",
      "mean       -1.259827     23441.410156      -0.047857       0.003289   \n",
      "std         0.815457     17402.105469       4.588600       1.516738   \n",
      "min        -5.029523      3753.000000      -8.053650      -4.997870   \n",
      "25%        -1.701883     10126.000000      -3.958727      -1.169880   \n",
      "50%        -1.156997     17268.000000      -0.066073       0.145429   \n",
      "75%        -0.622764     32121.000000       3.884180       1.169552   \n",
      "max        -0.066108    149278.000000       8.182440       4.997210   \n",
      "\n",
      "            cotAlpha        cotBeta     y-midplane     x-midplane  \\\n",
      "count  217754.000000  217754.000000  217754.000000  217754.000000   \n",
      "mean        0.072418       0.003042      -0.042284       0.081698   \n",
      "std         2.964273       0.152012      10.828462      43.309032   \n",
      "min        -7.999412      -0.504953     -18.749943     -74.999763   \n",
      "25%        -1.611417      -0.121387      -9.432440     -37.397554   \n",
      "50%        -0.005793       0.003942      -0.021890       0.009451   \n",
      "75%         1.704074       0.128098       9.306330      37.590989   \n",
      "max         7.999264       0.507680      18.749981      74.999275   \n",
      "\n",
      "              charge  \n",
      "count  217754.000000  \n",
      "mean        0.005134  \n",
      "std         0.999989  \n",
      "min        -1.000000  \n",
      "25%        -1.000000  \n",
      "50%         1.000000  \n",
      "75%         1.000000  \n",
      "max         1.000000  \n",
      "(217754, 2184) (217754, 14)\n"
     ]
    },
    {
     "data": {
      "text/plain": [
       "0"
      ]
     },
     "execution_count": 3,
     "metadata": {},
     "output_type": "execute_result"
    }
   ],
   "source": [
    "import gc\n",
    "print(combined_df2.describe())\n",
    "X = combined_df1.values\n",
    "y = combined_df2.values\n",
    "del combined_df1\n",
    "del combined_df2\n",
    "n = X.shape[0]\n",
    "print(X.shape, y.shape)\n",
    "gc.collect()"
   ]
  },
  {
   "cell_type": "code",
   "execution_count": 4,
   "metadata": {},
   "outputs": [
    {
     "data": {
      "text/plain": [
       "0"
      ]
     },
     "execution_count": 4,
     "metadata": {},
     "output_type": "execute_result"
    }
   ],
   "source": [
    "X_reshaped = X.reshape(-1, 8*13*21)\n",
    "X = StandardScaler().fit_transform(X_reshaped)\n",
    "del X_reshaped\n",
    "gc.collect()\n",
    "X = X.reshape(n,8,13,21)\n",
    "# X = X.reshape(n,8,13,21,1)\n",
    "# scaler = StandardScaler().fit(X_reshaped)\n",
    "# print(scaler.mean_, scaler.scale_)\n",
    "# Reshape back to original shape\n",
    "\n",
    "X_train, X_temp, y_train, y_temp = train_test_split(X, y, test_size=0.2, random_state=0)\n",
    "X_val, X_test, y_val, y_test = train_test_split(X_temp, y_temp, test_size=0.5, random_state=0)\n",
    "del X\n",
    "del y\n",
    "gc.collect()"
   ]
  },
  {
   "cell_type": "code",
   "execution_count": 6,
   "metadata": {},
   "outputs": [],
   "source": [
    "def to_sum(X, y):\n",
    "    if X.shape[1:] == (8, 13, 21) and y.shape[1:] == (14, ):\n",
    "        #y_expanded = np.repeat(y[:,7], 8, axis=0).reshape(-1, 8, 1)\n",
    "        X_sum = np.sum(X, axis=(1,3))\n",
    "        n = y.shape[0]\n",
    "        one_hot = np.zeros((n, 3))\n",
    "\n",
    "        # Class 1: np.abs(y[:, 8]) > 2\n",
    "        one_hot[np.abs(y[:, 8]) > 2, 0] = 1\n",
    "\n",
    "        # Class 2: np.abs(y[:, 8]) <= 2 and y[:, 13] == 1\n",
    "        one_hot[(np.abs(y[:, 8]) <= 2) & (y[:, 13] == 1), 1] = 1\n",
    "\n",
    "        # Class 3: np.abs(y[:, 8]) <= 2 and y[:, 13] == -1\n",
    "        one_hot[(np.abs(y[:, 8]) <= 2) & (y[:, 13] == -1), 2] = 1\n",
    "        return np.concatenate((X_sum, y[:,7].reshape(-1, 1)), axis=1), one_hot\n",
    "    else:\n",
    "        raise ValueError(\"Wrong array shape!\")\n",
    "\n",
    "\n",
    "X_train, y_train = to_sum(X_train, y_train)\n",
    "X_val, y_val = to_sum(X_val, y_val)\n",
    "X_test, y_test = to_sum(X_test, y_test)"
   ]
  },
  {
   "cell_type": "code",
   "execution_count": 7,
   "metadata": {},
   "outputs": [],
   "source": [
    "X_train_torch = torch.tensor(X_train, dtype=torch.float32)\n",
    "y_train_torch = torch.tensor(y_train, dtype=torch.float32)\n",
    "X_val_torch = torch.tensor(X_val, dtype=torch.float32)\n",
    "y_val_torch = torch.tensor(y_val, dtype=torch.float32)\n",
    "X_test_torch = torch.tensor(X_test, dtype=torch.float32)\n",
    "y_test_torch = torch.tensor(y_test, dtype=torch.float32)\n",
    "\n",
    "# Create TensorDatasets for each set\n",
    "train_dataset = TensorDataset(X_train_torch, y_train_torch)\n",
    "val_dataset = TensorDataset(X_val_torch, y_val_torch)\n",
    "test_dataset = TensorDataset(X_test_torch, y_test_torch)\n",
    "\n",
    "\n",
    "batch_size = 256\n",
    "# Create DataLoaders for each set\n",
    "train_loader = DataLoader(train_dataset, batch_size=batch_size, shuffle=True, drop_last=True)\n",
    "val_loader = DataLoader(val_dataset, batch_size=batch_size, shuffle=False, drop_last=True)\n",
    "test_loader = DataLoader(test_dataset, batch_size=batch_size, shuffle=False, drop_last=True)"
   ]
  },
  {
   "cell_type": "code",
   "execution_count": 19,
   "metadata": {},
   "outputs": [],
   "source": [
    "import torch.optim as optim\n",
    "\n",
    "class SimpleNN(nn.Module):\n",
    "    def __init__(self):\n",
    "        super(SimpleNN, self).__init__()\n",
    "        self.fc1 = nn.Linear(14, 32)\n",
    "        self.fc2 = nn.Linear(32, 128)\n",
    "        self.fc3 = nn.Linear(128, 3)\n",
    "\n",
    "    def forward(self, x):\n",
    "        x = torch.relu(self.fc1(x))\n",
    "        x = torch.relu(self.fc2(x))\n",
    "        x = torch.softmax(self.fc3(x), dim=1)\n",
    "        return x\n",
    "\n",
    "\n",
    "\n",
    "\n"
   ]
  },
  {
   "cell_type": "code",
   "execution_count": 20,
   "metadata": {},
   "outputs": [],
   "source": [
    "from sklearn.utils.class_weight import compute_class_weight\n",
    "class_labels = np.argmax(y_train, axis=1)\n",
    "device = torch.device(\"cuda\" if torch.cuda.is_available() else \"cpu\")\n",
    "class_weights = compute_class_weight('balanced', classes=np.unique(class_labels), y=class_labels)\n",
    "class_weights = torch.tensor(class_weights, dtype=torch.float)\n",
    "criterion = nn.CrossEntropyLoss(weight=class_weights.to(device))\n",
    "model = SimpleNN().to(device)\n",
    "optimizer = optim.Adam(model.parameters(), lr=1e-3)"
   ]
  },
  {
   "cell_type": "code",
   "execution_count": 21,
   "metadata": {},
   "outputs": [],
   "source": [
    "def one_hot_to_indices(one_hot):\n",
    "    return torch.max(one_hot, 1)[1]\n",
    "\n",
    "def calculate_accuracy(model, data_loader, device):\n",
    "    model.eval()  # Set the model to evaluation mode\n",
    "    correct = 0\n",
    "    total = 0\n",
    "\n",
    "    with torch.no_grad():\n",
    "        for data in data_loader:\n",
    "            inputs, labels = data\n",
    "            inputs, labels = inputs.to(device), one_hot_to_indices(labels).to(device)\n",
    "\n",
    "            outputs = model(inputs)\n",
    "            _, predicted = torch.max(outputs.data, 1)\n",
    "            total += labels.size(0)\n",
    "            correct += (predicted == labels).sum().item()\n",
    "\n",
    "    accuracy = 100 * correct / total\n",
    "    return accuracy\n"
   ]
  },
  {
   "cell_type": "code",
   "execution_count": 24,
   "metadata": {},
   "outputs": [
    {
     "name": "stdout",
     "output_type": "stream",
     "text": [
      "Requirement already satisfied: tqdm in ./.venv/lib/python3.9/site-packages (4.66.1)\n",
      "Note: you may need to restart the kernel to use updated packages.\n"
     ]
    },
    {
     "name": "stderr",
     "output_type": "stream",
     "text": [
      "Epoch 1/100: 100%|██████████| 680/680 [02:44<00:00,  4.14it/s, Train Loss=1.04, Train Acc=50.9]\n"
     ]
    },
    {
     "name": "stdout",
     "output_type": "stream",
     "text": [
      "\n",
      "Epoch 1/100, Train Loss: 1.0403, Train Accuracy: 50.87%, Validation Accuracy: 48.39%\n"
     ]
    },
    {
     "name": "stderr",
     "output_type": "stream",
     "text": [
      "Epoch 2/100: 100%|██████████| 680/680 [02:34<00:00,  4.39it/s, Train Loss=1.04, Train Acc=50.9]\n"
     ]
    },
    {
     "name": "stdout",
     "output_type": "stream",
     "text": [
      "\n",
      "Epoch 2/100, Train Loss: 1.0380, Train Accuracy: 50.89%, Validation Accuracy: 54.00%\n"
     ]
    },
    {
     "name": "stderr",
     "output_type": "stream",
     "text": [
      "Epoch 3/100: 100%|██████████| 680/680 [02:45<00:00,  4.12it/s, Train Loss=1.04, Train Acc=51.1]\n"
     ]
    },
    {
     "name": "stdout",
     "output_type": "stream",
     "text": [
      "\n",
      "Epoch 3/100, Train Loss: 1.0355, Train Accuracy: 51.14%, Validation Accuracy: 52.21%\n"
     ]
    },
    {
     "name": "stderr",
     "output_type": "stream",
     "text": [
      "Epoch 4/100: 100%|██████████| 680/680 [02:26<00:00,  4.63it/s, Train Loss=1.03, Train Acc=51.7]\n"
     ]
    },
    {
     "name": "stdout",
     "output_type": "stream",
     "text": [
      "\n",
      "Epoch 4/100, Train Loss: 1.0328, Train Accuracy: 51.74%, Validation Accuracy: 49.47%\n"
     ]
    },
    {
     "name": "stderr",
     "output_type": "stream",
     "text": [
      "Epoch 5/100: 100%|██████████| 680/680 [02:37<00:00,  4.32it/s, Train Loss=1.03, Train Acc=51.7]\n"
     ]
    },
    {
     "name": "stdout",
     "output_type": "stream",
     "text": [
      "\n",
      "Epoch 5/100, Train Loss: 1.0307, Train Accuracy: 51.69%, Validation Accuracy: 52.83%\n"
     ]
    },
    {
     "name": "stderr",
     "output_type": "stream",
     "text": [
      "Epoch 6/100: 100%|██████████| 680/680 [02:30<00:00,  4.50it/s, Train Loss=1.03, Train Acc=51.9]\n"
     ]
    },
    {
     "name": "stdout",
     "output_type": "stream",
     "text": [
      "\n",
      "Epoch 6/100, Train Loss: 1.0292, Train Accuracy: 51.93%, Validation Accuracy: 51.43%\n"
     ]
    },
    {
     "name": "stderr",
     "output_type": "stream",
     "text": [
      "Epoch 7/100: 100%|██████████| 680/680 [02:59<00:00,  3.79it/s, Train Loss=1.03, Train Acc=52.1]\n"
     ]
    },
    {
     "name": "stdout",
     "output_type": "stream",
     "text": [
      "\n",
      "Epoch 7/100, Train Loss: 1.0278, Train Accuracy: 52.10%, Validation Accuracy: 52.57%\n"
     ]
    },
    {
     "name": "stderr",
     "output_type": "stream",
     "text": [
      "Epoch 8/100: 100%|██████████| 680/680 [02:36<00:00,  4.34it/s, Train Loss=1.03, Train Acc=52.1]\n"
     ]
    },
    {
     "name": "stdout",
     "output_type": "stream",
     "text": [
      "\n",
      "Epoch 8/100, Train Loss: 1.0274, Train Accuracy: 52.07%, Validation Accuracy: 53.17%\n"
     ]
    },
    {
     "name": "stderr",
     "output_type": "stream",
     "text": [
      "Epoch 9/100: 100%|██████████| 680/680 [02:35<00:00,  4.36it/s, Train Loss=1.03, Train Acc=52.2]\n"
     ]
    },
    {
     "name": "stdout",
     "output_type": "stream",
     "text": [
      "\n",
      "Epoch 9/100, Train Loss: 1.0255, Train Accuracy: 52.20%, Validation Accuracy: 51.44%\n"
     ]
    },
    {
     "name": "stderr",
     "output_type": "stream",
     "text": [
      "Epoch 10/100: 100%|██████████| 680/680 [02:45<00:00,  4.12it/s, Train Loss=1.02, Train Acc=52.3]\n"
     ]
    },
    {
     "name": "stdout",
     "output_type": "stream",
     "text": [
      "\n",
      "Epoch 10/100, Train Loss: 1.0244, Train Accuracy: 52.29%, Validation Accuracy: 51.49%\n"
     ]
    },
    {
     "name": "stderr",
     "output_type": "stream",
     "text": [
      "Epoch 11/100: 100%|██████████| 680/680 [02:47<00:00,  4.05it/s, Train Loss=1.02, Train Acc=52.3]\n"
     ]
    },
    {
     "name": "stdout",
     "output_type": "stream",
     "text": [
      "\n",
      "Epoch 11/100, Train Loss: 1.0237, Train Accuracy: 52.32%, Validation Accuracy: 51.71%\n"
     ]
    },
    {
     "name": "stderr",
     "output_type": "stream",
     "text": [
      "Epoch 12/100: 100%|██████████| 680/680 [02:40<00:00,  4.24it/s, Train Loss=1.02, Train Acc=52.6]\n"
     ]
    },
    {
     "name": "stdout",
     "output_type": "stream",
     "text": [
      "\n",
      "Epoch 12/100, Train Loss: 1.0224, Train Accuracy: 52.63%, Validation Accuracy: 54.17%\n"
     ]
    },
    {
     "name": "stderr",
     "output_type": "stream",
     "text": [
      "Epoch 13/100: 100%|██████████| 680/680 [02:09<00:00,  5.25it/s, Train Loss=1.02, Train Acc=52.6]\n"
     ]
    },
    {
     "name": "stdout",
     "output_type": "stream",
     "text": [
      "\n",
      "Epoch 13/100, Train Loss: 1.0223, Train Accuracy: 52.57%, Validation Accuracy: 49.81%\n"
     ]
    },
    {
     "name": "stderr",
     "output_type": "stream",
     "text": [
      "Epoch 14/100: 100%|██████████| 680/680 [01:52<00:00,  6.03it/s, Train Loss=1.02, Train Acc=52.4] \n"
     ]
    },
    {
     "name": "stdout",
     "output_type": "stream",
     "text": [
      "\n",
      "Epoch 14/100, Train Loss: 1.0217, Train Accuracy: 52.43%, Validation Accuracy: 51.94%\n"
     ]
    },
    {
     "name": "stderr",
     "output_type": "stream",
     "text": [
      "Epoch 15/100: 100%|██████████| 680/680 [02:49<00:00,  4.01it/s, Train Loss=1.02, Train Acc=52.8]\n"
     ]
    },
    {
     "name": "stdout",
     "output_type": "stream",
     "text": [
      "\n",
      "Epoch 15/100, Train Loss: 1.0206, Train Accuracy: 52.78%, Validation Accuracy: 51.59%\n"
     ]
    },
    {
     "name": "stderr",
     "output_type": "stream",
     "text": [
      "Epoch 16/100: 100%|██████████| 680/680 [02:44<00:00,  4.13it/s, Train Loss=1.02, Train Acc=52.4]\n"
     ]
    },
    {
     "name": "stdout",
     "output_type": "stream",
     "text": [
      "\n",
      "Epoch 16/100, Train Loss: 1.0201, Train Accuracy: 52.45%, Validation Accuracy: 53.55%\n"
     ]
    },
    {
     "name": "stderr",
     "output_type": "stream",
     "text": [
      "Epoch 17/100: 100%|██████████| 680/680 [02:26<00:00,  4.63it/s, Train Loss=1.02, Train Acc=52.8]\n"
     ]
    },
    {
     "name": "stdout",
     "output_type": "stream",
     "text": [
      "\n",
      "Epoch 17/100, Train Loss: 1.0193, Train Accuracy: 52.76%, Validation Accuracy: 50.72%\n"
     ]
    },
    {
     "name": "stderr",
     "output_type": "stream",
     "text": [
      "Epoch 18/100: 100%|██████████| 680/680 [02:29<00:00,  4.55it/s, Train Loss=1.02, Train Acc=52.8]\n"
     ]
    },
    {
     "name": "stdout",
     "output_type": "stream",
     "text": [
      "\n",
      "Epoch 18/100, Train Loss: 1.0194, Train Accuracy: 52.84%, Validation Accuracy: 51.77%\n"
     ]
    },
    {
     "name": "stderr",
     "output_type": "stream",
     "text": [
      "Epoch 19/100: 100%|██████████| 680/680 [02:38<00:00,  4.30it/s, Train Loss=1.02, Train Acc=52.8]\n"
     ]
    },
    {
     "name": "stdout",
     "output_type": "stream",
     "text": [
      "\n",
      "Epoch 19/100, Train Loss: 1.0183, Train Accuracy: 52.84%, Validation Accuracy: 51.79%\n"
     ]
    },
    {
     "name": "stderr",
     "output_type": "stream",
     "text": [
      "Epoch 20/100: 100%|██████████| 680/680 [02:44<00:00,  4.13it/s, Train Loss=1.02, Train Acc=52.7]\n"
     ]
    },
    {
     "name": "stdout",
     "output_type": "stream",
     "text": [
      "\n",
      "Epoch 20/100, Train Loss: 1.0184, Train Accuracy: 52.73%, Validation Accuracy: 52.61%\n"
     ]
    },
    {
     "name": "stderr",
     "output_type": "stream",
     "text": [
      "Epoch 21/100: 100%|██████████| 680/680 [02:23<00:00,  4.73it/s, Train Loss=1.02, Train Acc=53]  \n"
     ]
    },
    {
     "name": "stdout",
     "output_type": "stream",
     "text": [
      "\n",
      "Epoch 21/100, Train Loss: 1.0175, Train Accuracy: 53.04%, Validation Accuracy: 51.57%\n"
     ]
    },
    {
     "name": "stderr",
     "output_type": "stream",
     "text": [
      "Epoch 22/100: 100%|██████████| 680/680 [02:46<00:00,  4.09it/s, Train Loss=1.02, Train Acc=52.9]\n"
     ]
    },
    {
     "name": "stdout",
     "output_type": "stream",
     "text": [
      "\n",
      "Epoch 22/100, Train Loss: 1.0174, Train Accuracy: 52.89%, Validation Accuracy: 51.74%\n"
     ]
    },
    {
     "name": "stderr",
     "output_type": "stream",
     "text": [
      "Epoch 23/100: 100%|██████████| 680/680 [02:17<00:00,  4.95it/s, Train Loss=1.02, Train Acc=53]  \n"
     ]
    },
    {
     "name": "stdout",
     "output_type": "stream",
     "text": [
      "\n",
      "Epoch 23/100, Train Loss: 1.0164, Train Accuracy: 53.01%, Validation Accuracy: 52.65%\n"
     ]
    },
    {
     "name": "stderr",
     "output_type": "stream",
     "text": [
      "Epoch 24/100: 100%|██████████| 680/680 [02:44<00:00,  4.12it/s, Train Loss=1.02, Train Acc=53]  \n"
     ]
    },
    {
     "name": "stdout",
     "output_type": "stream",
     "text": [
      "\n",
      "Epoch 24/100, Train Loss: 1.0165, Train Accuracy: 53.02%, Validation Accuracy: 52.82%\n"
     ]
    },
    {
     "name": "stderr",
     "output_type": "stream",
     "text": [
      "Epoch 25/100: 100%|██████████| 680/680 [02:37<00:00,  4.33it/s, Train Loss=1.02, Train Acc=53]  \n"
     ]
    },
    {
     "name": "stdout",
     "output_type": "stream",
     "text": [
      "\n",
      "Epoch 25/100, Train Loss: 1.0158, Train Accuracy: 52.98%, Validation Accuracy: 51.82%\n"
     ]
    },
    {
     "name": "stderr",
     "output_type": "stream",
     "text": [
      "Epoch 26/100: 100%|██████████| 680/680 [02:31<00:00,  4.48it/s, Train Loss=1.02, Train Acc=53]  \n"
     ]
    },
    {
     "name": "stdout",
     "output_type": "stream",
     "text": [
      "\n",
      "Epoch 26/100, Train Loss: 1.0152, Train Accuracy: 53.01%, Validation Accuracy: 51.42%\n"
     ]
    },
    {
     "name": "stderr",
     "output_type": "stream",
     "text": [
      "Epoch 27/100: 100%|██████████| 680/680 [02:32<00:00,  4.46it/s, Train Loss=1.01, Train Acc=53.1]\n"
     ]
    },
    {
     "name": "stdout",
     "output_type": "stream",
     "text": [
      "\n",
      "Epoch 27/100, Train Loss: 1.0149, Train Accuracy: 53.08%, Validation Accuracy: 53.96%\n"
     ]
    },
    {
     "name": "stderr",
     "output_type": "stream",
     "text": [
      "Epoch 28/100: 100%|██████████| 680/680 [02:44<00:00,  4.13it/s, Train Loss=1.01, Train Acc=53.2]\n"
     ]
    },
    {
     "name": "stdout",
     "output_type": "stream",
     "text": [
      "\n",
      "Epoch 28/100, Train Loss: 1.0143, Train Accuracy: 53.24%, Validation Accuracy: 53.83%\n"
     ]
    },
    {
     "name": "stderr",
     "output_type": "stream",
     "text": [
      "Epoch 29/100: 100%|██████████| 680/680 [02:11<00:00,  5.18it/s, Train Loss=1.01, Train Acc=53.1]\n"
     ]
    },
    {
     "name": "stdout",
     "output_type": "stream",
     "text": [
      "\n",
      "Epoch 29/100, Train Loss: 1.0140, Train Accuracy: 53.10%, Validation Accuracy: 53.67%\n"
     ]
    },
    {
     "name": "stderr",
     "output_type": "stream",
     "text": [
      "Epoch 30/100: 100%|██████████| 680/680 [02:21<00:00,  4.81it/s, Train Loss=1.01, Train Acc=53.2]\n"
     ]
    },
    {
     "name": "stdout",
     "output_type": "stream",
     "text": [
      "\n",
      "Epoch 30/100, Train Loss: 1.0137, Train Accuracy: 53.24%, Validation Accuracy: 53.60%\n"
     ]
    },
    {
     "name": "stderr",
     "output_type": "stream",
     "text": [
      "Epoch 31/100: 100%|██████████| 680/680 [02:29<00:00,  4.56it/s, Train Loss=1.01, Train Acc=53.2]\n"
     ]
    },
    {
     "name": "stdout",
     "output_type": "stream",
     "text": [
      "\n",
      "Epoch 31/100, Train Loss: 1.0139, Train Accuracy: 53.24%, Validation Accuracy: 52.13%\n"
     ]
    },
    {
     "name": "stderr",
     "output_type": "stream",
     "text": [
      "Epoch 32/100: 100%|██████████| 680/680 [02:08<00:00,  5.30it/s, Train Loss=1.01, Train Acc=53.4] \n"
     ]
    },
    {
     "name": "stdout",
     "output_type": "stream",
     "text": [
      "\n",
      "Epoch 32/100, Train Loss: 1.0133, Train Accuracy: 53.36%, Validation Accuracy: 54.00%\n",
      "Early stopping triggered\n"
     ]
    }
   ],
   "source": [
    "# %pip install tqdm\n",
    "from tqdm import tqdm\n",
    "\n",
    "num_epochs = 100\n",
    "best_val_accuracy = 0\n",
    "patience, trials = 20, 0\n",
    "\n",
    "# Example training loop\n",
    "for epoch in range(num_epochs):\n",
    "    model.train()  # Set the model to training mode\n",
    "    running_loss = 0.0\n",
    "    correct = 0\n",
    "    total = 0\n",
    "\n",
    "    train_bar = tqdm(enumerate(train_loader, 0), total=len(train_loader), desc=f'Epoch {epoch+1}/{num_epochs}', position=0, leave=True)\n",
    "    for i, data in train_bar:\n",
    "        inputs, labels = data\n",
    "        inputs, labels = inputs.to(device), one_hot_to_indices(labels).to(device)\n",
    "\n",
    "        optimizer.zero_grad()\n",
    "        outputs = model(inputs)\n",
    "        loss = criterion(outputs, labels)\n",
    "        loss.backward()\n",
    "        optimizer.step()\n",
    "\n",
    "        running_loss += loss.item()\n",
    "        _, predicted = torch.max(outputs.data, 1)\n",
    "        total += labels.size(0)\n",
    "        correct += (predicted == labels).sum().item()\n",
    "        train_bar.set_postfix({'Train Loss': running_loss / (i + 1), 'Train Acc': 100. * correct / total})\n",
    "\n",
    "\n",
    "    train_loss = running_loss / len(train_loader)\n",
    "    train_accuracy = 100 * correct / total\n",
    "    val_accuracy = calculate_accuracy(model, val_loader, device)\n",
    "    print(f'\\nEpoch {epoch+1}/{num_epochs}, '\n",
    "          f'Train Loss: {train_loss:.4f}, '\n",
    "          f'Train Accuracy: {train_accuracy:.2f}%, '\n",
    "          f'Validation Accuracy: {val_accuracy:.2f}%')\n",
    "    if val_accuracy > best_val_accuracy:\n",
    "        best_val_accuracy = val_accuracy\n",
    "        trials = 0\n",
    "        torch.save(model.state_dict(), './best_model.pth')\n",
    "    else:\n",
    "        trials += 1\n",
    "        if trials >= patience:\n",
    "            print(\"Early stopping triggered\")\n",
    "            break"
   ]
  },
  {
   "cell_type": "code",
   "execution_count": 26,
   "metadata": {},
   "outputs": [
    {
     "data": {
      "image/png": "[encoded data removed]",
      "text/plain": [
       "<Figure size 1000x700 with 2 Axes>"
      ]
     },
     "metadata": {},
     "output_type": "display_data"
    }
   ],
   "source": [
    "from sklearn.metrics import confusion_matrix\n",
    "def get_all_preds_labels(model, data_loader, device):\n",
    "    model.eval()\n",
    "    all_preds = []\n",
    "    all_labels = []\n",
    "\n",
    "    with torch.no_grad():\n",
    "        for inputs, labels in data_loader:\n",
    "            inputs = inputs.to(device)\n",
    "            labels = labels.to(device)\n",
    "\n",
    "            # If your labels are one-hot encoded, convert them to indices\n",
    "            if labels.ndimension() > 1:\n",
    "                labels = torch.argmax(labels, dim=1)\n",
    "\n",
    "            outputs = model(inputs)\n",
    "            _, preds = torch.max(outputs, 1)\n",
    "\n",
    "            all_preds.extend(preds.cpu().numpy())\n",
    "            all_labels.extend(labels.cpu().numpy())\n",
    "\n",
    "    return np.array(all_preds), np.array(all_labels)\n",
    "preds, labels = get_all_preds_labels(model, val_loader, device)\n",
    "cm = confusion_matrix(labels, preds)\n",
    "\n",
    "# Plotting\n",
    "plt.figure(figsize=(10, 7))\n",
    "sns.heatmap(cm, annot=True, fmt='g')\n",
    "plt.xlabel('Predicted Labels')\n",
    "plt.ylabel('True Labels')\n",
    "plt.show()"
   ]
  },
  {
   "cell_type": "code",
   "execution_count": 27,
   "metadata": {},
   "outputs": [
    {
     "name": "stdout",
     "output_type": "stream",
     "text": [
      "Signal Efficiency: 0.2657\n",
      "Background Rejection: 0.7346\n"
     ]
    }
   ],
   "source": [
    "TP = cm[0, 0]\n",
    "FN = np.sum(cm[0, :]) - TP\n",
    "TN = np.sum(np.diag(cm)) - TP\n",
    "FP = np.sum(cm[:, 0]) - TP\n",
    "\n",
    "signal_efficiency = TP / (TP + FN) if (TP + FN) != 0 else 0\n",
    "background_rejection = TN / (TN + FP) if (TN + FP) != 0 else 0\n",
    "\n",
    "print(f\"Signal Efficiency: {signal_efficiency:.4f}\")\n",
    "print(f\"Background Rejection: {background_rejection:.4f}\")"
   ]
  },
  {
   "cell_type": "code",
   "execution_count": 50,
   "metadata": {},
   "outputs": [
    {
     "name": "stdout",
     "output_type": "stream",
     "text": [
      "AUC for class 0 vs rest: 0.43\n"
     ]
    }
   ],
   "source": [
    "from sklearn.metrics import roc_auc_score\n",
    "state_dict = torch.load('./best_model.pth')\n",
    "\n",
    "# Apply the state dictionary to your model\n",
    "model.load_state_dict(state_dict)\n",
    "model.eval()  # Set the model to evaluation mode\n",
    "\n",
    "all_preds = []  # Store probabilities for class 0\n",
    "all_labels = []  # Store true labels\n",
    "\n",
    "with torch.no_grad():  # Disable gradient tracking\n",
    "    for inputs, labels in test_loader:\n",
    "        outputs = model(inputs)  # Get model outputs\n",
    "        all_preds.extend(outputs[:, 0].cpu().numpy())  # Store probabilities for class 0\n",
    "        all_labels.extend(labels[:, 0].cpu().numpy())\n",
    "\n",
    "# Convert labels to binary (1 for class 0, 0 for others)\n",
    "binary_labels = (np.array(all_labels) == 0).astype(int)\n",
    "binary_labels = np.array(binary_labels).reshape(-1, 1)\n",
    "all_preds = np.array(all_preds).reshape(-1, 1)\n",
    "# Calculate AUC\n",
    "auc_score = roc_auc_score(binary_labels, all_preds)\n",
    "print(f\"AUC for class 0 vs rest: {auc_score:.2f}\")"
   ]
  },
  {
   "cell_type": "code",
   "execution_count": 51,
   "metadata": {},
   "outputs": [],
   "source": [
    "thresholds = np.linspace(0, 1, num=100)  # Create a list of thresholds\n",
    "\n",
    "signal_efficiency = []\n",
    "background_rejection = []\n",
    "\n",
    "for threshold in thresholds:\n",
    "    # Apply threshold to prediction probabilities to get predicted classes\n",
    "    predicted_classes = (all_preds >= threshold).astype(int)\n",
    "\n",
    "    # Calculate confusion matrix\n",
    "    tn, fp, fn, tp = confusion_matrix(binary_labels, predicted_classes).ravel()\n",
    "\n",
    "    # Calculate signal efficiency (True Positive Rate)\n",
    "    se = tp / (tp + fn) if (tp + fn) != 0 else 0\n",
    "\n",
    "    # Calculate background rejection (True Negative Rate)\n",
    "    br = tn / (tn + fp) if (tn + fp) != 0 else 0\n",
    "\n",
    "    signal_efficiency.append(se)\n",
    "    background_rejection.append(br)"
   ]
  },
  {
   "cell_type": "code",
   "execution_count": 52,
   "metadata": {},
   "outputs": [
    {
     "data": {
      "image/png": "[encoded data removed]",
      "text/plain": [
       "<Figure size 1000x600 with 1 Axes>"
      ]
     },
     "metadata": {},
     "output_type": "display_data"
    }
   ],
   "source": [
    "import matplotlib.pyplot as plt\n",
    "\n",
    "plt.figure(figsize=(10, 6))\n",
    "plt.plot(thresholds, signal_efficiency, label='Signal Efficiency (TPR)')\n",
    "plt.plot(thresholds, background_rejection, label='Background Rejection (TNR)')\n",
    "plt.xlabel('Threshold')\n",
    "plt.ylabel('Efficiency/Rejection')\n",
    "plt.title('Signal Efficiency and Background Rejection vs. Threshold')\n",
    "plt.legend()\n",
    "plt.show()"
   ]
  },
  {
   "cell_type": "code",
   "execution_count": 53,
   "metadata": {},
   "outputs": [
    {
     "data": {
      "image/png": "[encoded data removed]",
      "text/plain": [
       "<Figure size 1000x600 with 1 Axes>"
      ]
     },
     "metadata": {},
     "output_type": "display_data"
    }
   ],
   "source": [
    "plt.figure(figsize=(10, 6))\n",
    "plt.plot(signal_efficiency, background_rejection, label='Background Rejection vs Signal Efficiency')\n",
    "plt.xlabel('Signal Efficiency (True Positive Rate)')\n",
    "plt.ylabel('Background Rejection (True Negative Rate)')\n",
    "plt.title('Background Rejection vs Signal Efficiency')\n",
    "plt.legend()\n",
    "plt.grid(True)\n",
    "plt.show()"
   ]
  }
 ],
 "metadata": {
  "kernelspec": {
   "display_name": ".venv",
   "language": "python",
   "name": "python3"
  },
  "language_info": {
   "codemirror_mode": {
    "name": "ipython",
    "version": 3
   },
   "file_extension": ".py",
   "mimetype": "text/x-python",
   "name": "python",
   "nbconvert_exporter": "python",
   "pygments_lexer": "ipython3",
   "version": "3.9.6"
  }
 },
 "nbformat": 4,
 "nbformat_minor": 2
}
